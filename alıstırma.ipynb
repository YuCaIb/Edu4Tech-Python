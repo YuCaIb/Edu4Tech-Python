{
 "cells": [
  {
   "cell_type": "code",
   "execution_count": 37,
   "id": "06b79250-60b7-4d7b-a514-58f8238673b6",
   "metadata": {
    "tags": []
   },
   "outputs": [],
   "source": [
    "###Edu4Tech an Function example \n",
    "def Turk_Kahvem():\n",
    "    \n",
    "    print('kahvenizi nasıl istersiniz? Sade istiyorsanız 1, Orta istiyorsanız 2, Şekerli istiyorsanız 3 tuşlayıp enterlayın')\n",
    "    types = [[1,'sade'],[2,'orta'],[3,'şekerli']]\n",
    "    x = input()\n",
    "    for i in range(len(types)):\n",
    "        if int(x) == types[i][0]:\n",
    "            print('Kahveniz {} gelecek.'.format(types[i][1]))"
   ]
  },
  {
   "cell_type": "code",
   "execution_count": 39,
   "id": "3eaa8b53-3994-4d2e-bbb9-acdf3535cec7",
   "metadata": {
    "tags": []
   },
   "outputs": [
    {
     "name": "stdout",
     "output_type": "stream",
     "text": [
      "kahvenizi nasıl istersiniz? Sade istiyorsanız 1, Orta istiyorsanız 2, Şekerli istiyorsanız 3 tuşlayıp enterlayın\n"
     ]
    },
    {
     "name": "stdin",
     "output_type": "stream",
     "text": [
      " 1\n"
     ]
    },
    {
     "name": "stdout",
     "output_type": "stream",
     "text": [
      "Kahveniz sade gelecek.\n"
     ]
    }
   ],
   "source": [
    "Turk_Kahvem() #1"
   ]
  },
  {
   "cell_type": "code",
   "execution_count": 42,
   "id": "e87e5870-26f2-4aaa-b627-7724f2ef051c",
   "metadata": {
    "tags": []
   },
   "outputs": [
    {
     "name": "stdout",
     "output_type": "stream",
     "text": [
      "kahvenizi nasıl istersiniz? Sade istiyorsanız 1, Orta istiyorsanız 2, Şekerli istiyorsanız 3 tuşlayıp enterlayın\n"
     ]
    },
    {
     "name": "stdin",
     "output_type": "stream",
     "text": [
      " 2\n"
     ]
    },
    {
     "name": "stdout",
     "output_type": "stream",
     "text": [
      "Kahveniz orta gelecek.\n"
     ]
    }
   ],
   "source": [
    "Turk_Kahvem() #2"
   ]
  },
  {
   "cell_type": "code",
   "execution_count": 41,
   "id": "b8267fbe-5b73-4243-a8aa-4bd0440404a1",
   "metadata": {
    "tags": []
   },
   "outputs": [
    {
     "name": "stdout",
     "output_type": "stream",
     "text": [
      "kahvenizi nasıl istersiniz? Sade istiyorsanız 1, Orta istiyorsanız 2, Şekerli istiyorsanız 3 tuşlayıp enterlayın\n"
     ]
    },
    {
     "name": "stdin",
     "output_type": "stream",
     "text": [
      " 3\n"
     ]
    },
    {
     "name": "stdout",
     "output_type": "stream",
     "text": [
      "Kahveniz şekerli gelecek.\n"
     ]
    }
   ],
   "source": [
    "Turk_Kahvem() #3"
   ]
  },
  {
   "cell_type": "code",
   "execution_count": 43,
   "id": "332df05b-bd80-438c-a91a-f2af953c5967",
   "metadata": {
    "tags": []
   },
   "outputs": [
    {
     "name": "stdout",
     "output_type": "stream",
     "text": [
      "kahvenizi nasıl istersiniz? Sade istiyorsanız 1, Orta istiyorsanız 2, Şekerli istiyorsanız 3 tuşlayıp enterlayın\n"
     ]
    },
    {
     "name": "stdin",
     "output_type": "stream",
     "text": [
      " 4\n"
     ]
    }
   ],
   "source": [
    "Turk_Kahvem() #4"
   ]
  },
  {
   "cell_type": "code",
   "execution_count": null,
   "id": "00e95917-481f-466f-a4db-3e83f90ac0cf",
   "metadata": {},
   "outputs": [],
   "source": []
  }
 ],
 "metadata": {
  "kernelspec": {
   "display_name": "Python 3 (ipykernel)",
   "language": "python",
   "name": "python3"
  },
  "language_info": {
   "codemirror_mode": {
    "name": "ipython",
    "version": 3
   },
   "file_extension": ".py",
   "mimetype": "text/x-python",
   "name": "python",
   "nbconvert_exporter": "python",
   "pygments_lexer": "ipython3",
   "version": "3.11.4"
  }
 },
 "nbformat": 4,
 "nbformat_minor": 5
}
